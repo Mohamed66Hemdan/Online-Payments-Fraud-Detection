{
 "cells": [
  {
   "cell_type": "markdown",
   "id": "cea7960b",
   "metadata": {
    "id": "cea7960b"
   },
   "source": [
    "# 1) - *Library*"
   ]
  },
  {
   "cell_type": "code",
   "execution_count": 1,
   "id": "ef7b1980",
   "metadata": {
    "id": "ef7b1980"
   },
   "outputs": [],
   "source": [
    "# ==============================================\n",
    "# Remove Warning\n",
    "import warnings\n",
    "warnings.filterwarnings('ignore')\n",
    "# ==============================================\n",
    "# Mathmatical Calculations\n",
    "import numpy as np\n",
    "# Process on Data\n",
    "import pandas as pd\n",
    "# Drwaing Data In Graph\n",
    "import matplotlib.pyplot as plt\n",
    "import seaborn as sns\n",
    "# ==============================================\n",
    "# ==============================================\n",
    "## Preprocessing & ML Algorithm\n",
    "# ==> Preprocessing\n",
    "from sklearn.preprocessing import LabelEncoder , RobustScaler\n",
    "# ==> Split Data\n",
    "from sklearn.model_selection import train_test_split\n",
    "# ==> Feature Selection\n",
    "from sklearn.feature_selection import SelectKBest , chi2\n",
    "# ==> Machine Learning Algorithm\n",
    "from sklearn.neural_network import MLPClassifier\n",
    "# ==> Metrics Score\n",
    "from sklearn.metrics import confusion_matrix , classification_report"
   ]
  },
  {
   "cell_type": "markdown",
   "id": "5508a089",
   "metadata": {
    "id": "5508a089"
   },
   "source": [
    "# *==============================================*"
   ]
  },
  {
   "cell_type": "markdown",
   "id": "78dc0415",
   "metadata": {
    "id": "78dc0415"
   },
   "source": [
    "# 2) - *Data Preparation*"
   ]
  },
  {
   "cell_type": "markdown",
   "id": "51565d4b",
   "metadata": {
    "id": "51565d4b"
   },
   "source": [
    "## *Data Exploration*"
   ]
  },
  {
   "cell_type": "code",
   "execution_count": 2,
   "id": "4ab5237a",
   "metadata": {
    "colab": {
     "base_uri": "https://localhost:8080/",
     "height": 226
    },
    "id": "4ab5237a",
    "outputId": "2cc1234e-f580-4682-ba4e-a483a68cf8ea"
   },
   "outputs": [
    {
     "data": {
      "text/html": [
       "<div>\n",
       "<style scoped>\n",
       "    .dataframe tbody tr th:only-of-type {\n",
       "        vertical-align: middle;\n",
       "    }\n",
       "\n",
       "    .dataframe tbody tr th {\n",
       "        vertical-align: top;\n",
       "    }\n",
       "\n",
       "    .dataframe thead th {\n",
       "        text-align: right;\n",
       "    }\n",
       "</style>\n",
       "<table border=\"1\" class=\"dataframe\">\n",
       "  <thead>\n",
       "    <tr style=\"text-align: right;\">\n",
       "      <th></th>\n",
       "      <th>step</th>\n",
       "      <th>type</th>\n",
       "      <th>amount</th>\n",
       "      <th>nameOrig</th>\n",
       "      <th>oldbalanceOrg</th>\n",
       "      <th>newbalanceOrig</th>\n",
       "      <th>nameDest</th>\n",
       "      <th>oldbalanceDest</th>\n",
       "      <th>newbalanceDest</th>\n",
       "      <th>isFraud</th>\n",
       "      <th>isFlaggedFraud</th>\n",
       "    </tr>\n",
       "  </thead>\n",
       "  <tbody>\n",
       "    <tr>\n",
       "      <th>0</th>\n",
       "      <td>1</td>\n",
       "      <td>PAYMENT</td>\n",
       "      <td>9839.64</td>\n",
       "      <td>C1231006815</td>\n",
       "      <td>170136.0</td>\n",
       "      <td>160296.36</td>\n",
       "      <td>M1979787155</td>\n",
       "      <td>0.0</td>\n",
       "      <td>0.0</td>\n",
       "      <td>0</td>\n",
       "      <td>0</td>\n",
       "    </tr>\n",
       "    <tr>\n",
       "      <th>1</th>\n",
       "      <td>1</td>\n",
       "      <td>PAYMENT</td>\n",
       "      <td>1864.28</td>\n",
       "      <td>C1666544295</td>\n",
       "      <td>21249.0</td>\n",
       "      <td>19384.72</td>\n",
       "      <td>M2044282225</td>\n",
       "      <td>0.0</td>\n",
       "      <td>0.0</td>\n",
       "      <td>0</td>\n",
       "      <td>0</td>\n",
       "    </tr>\n",
       "    <tr>\n",
       "      <th>2</th>\n",
       "      <td>1</td>\n",
       "      <td>TRANSFER</td>\n",
       "      <td>181.00</td>\n",
       "      <td>C1305486145</td>\n",
       "      <td>181.0</td>\n",
       "      <td>0.00</td>\n",
       "      <td>C553264065</td>\n",
       "      <td>0.0</td>\n",
       "      <td>0.0</td>\n",
       "      <td>1</td>\n",
       "      <td>0</td>\n",
       "    </tr>\n",
       "    <tr>\n",
       "      <th>3</th>\n",
       "      <td>1</td>\n",
       "      <td>CASH_OUT</td>\n",
       "      <td>181.00</td>\n",
       "      <td>C840083671</td>\n",
       "      <td>181.0</td>\n",
       "      <td>0.00</td>\n",
       "      <td>C38997010</td>\n",
       "      <td>21182.0</td>\n",
       "      <td>0.0</td>\n",
       "      <td>1</td>\n",
       "      <td>0</td>\n",
       "    </tr>\n",
       "    <tr>\n",
       "      <th>4</th>\n",
       "      <td>1</td>\n",
       "      <td>PAYMENT</td>\n",
       "      <td>11668.14</td>\n",
       "      <td>C2048537720</td>\n",
       "      <td>41554.0</td>\n",
       "      <td>29885.86</td>\n",
       "      <td>M1230701703</td>\n",
       "      <td>0.0</td>\n",
       "      <td>0.0</td>\n",
       "      <td>0</td>\n",
       "      <td>0</td>\n",
       "    </tr>\n",
       "  </tbody>\n",
       "</table>\n",
       "</div>"
      ],
      "text/plain": [
       "   step      type    amount     nameOrig  oldbalanceOrg  newbalanceOrig  \\\n",
       "0     1   PAYMENT   9839.64  C1231006815       170136.0       160296.36   \n",
       "1     1   PAYMENT   1864.28  C1666544295        21249.0        19384.72   \n",
       "2     1  TRANSFER    181.00  C1305486145          181.0            0.00   \n",
       "3     1  CASH_OUT    181.00   C840083671          181.0            0.00   \n",
       "4     1   PAYMENT  11668.14  C2048537720        41554.0        29885.86   \n",
       "\n",
       "      nameDest  oldbalanceDest  newbalanceDest  isFraud  isFlaggedFraud  \n",
       "0  M1979787155             0.0             0.0        0               0  \n",
       "1  M2044282225             0.0             0.0        0               0  \n",
       "2   C553264065             0.0             0.0        1               0  \n",
       "3    C38997010         21182.0             0.0        1               0  \n",
       "4  M1230701703             0.0             0.0        0               0  "
      ]
     },
     "execution_count": 2,
     "metadata": {},
     "output_type": "execute_result"
    }
   ],
   "source": [
    "# Read Data\n",
    "data = pd.read_csv(r'C:\\Users\\Dell\\Artificial Intelligence\\Machine Learning\\ML_Projects\\Online Payments Fraud Detection/PS_20174392719_1491204439457_log.csv')\n",
    "df = data.copy()\n",
    "df.head()"
   ]
  },
  {
   "cell_type": "code",
   "execution_count": 3,
   "id": "f87d32c0",
   "metadata": {
    "colab": {
     "base_uri": "https://localhost:8080/"
    },
    "id": "f87d32c0",
    "outputId": "a32da7aa-6def-45a9-b308-d98a9a7201ac"
   },
   "outputs": [
    {
     "data": {
      "text/plain": [
       "(6362620, 11)"
      ]
     },
     "execution_count": 3,
     "metadata": {},
     "output_type": "execute_result"
    }
   ],
   "source": [
    "# Size of data\n",
    "df.shape"
   ]
  },
  {
   "cell_type": "code",
   "execution_count": 7,
   "id": "fb3ae235",
   "metadata": {
    "colab": {
     "base_uri": "https://localhost:8080/",
     "height": 226
    },
    "id": "fb3ae235",
    "outputId": "e4c703aa-cca9-41d7-b650-bb2cb819ae57"
   },
   "outputs": [
    {
     "data": {
      "text/html": [
       "<div>\n",
       "<style scoped>\n",
       "    .dataframe tbody tr th:only-of-type {\n",
       "        vertical-align: middle;\n",
       "    }\n",
       "\n",
       "    .dataframe tbody tr th {\n",
       "        vertical-align: top;\n",
       "    }\n",
       "\n",
       "    .dataframe thead th {\n",
       "        text-align: right;\n",
       "    }\n",
       "</style>\n",
       "<table border=\"1\" class=\"dataframe\">\n",
       "  <thead>\n",
       "    <tr style=\"text-align: right;\">\n",
       "      <th></th>\n",
       "      <th>step</th>\n",
       "      <th>type</th>\n",
       "      <th>amount</th>\n",
       "      <th>nameOrig</th>\n",
       "      <th>oldbalanceOrg</th>\n",
       "      <th>newbalanceOrig</th>\n",
       "      <th>nameDest</th>\n",
       "      <th>oldbalanceDest</th>\n",
       "      <th>newbalanceDest</th>\n",
       "      <th>isFraud</th>\n",
       "      <th>isFlaggedFraud</th>\n",
       "    </tr>\n",
       "  </thead>\n",
       "  <tbody>\n",
       "    <tr>\n",
       "      <th>6362615</th>\n",
       "      <td>743</td>\n",
       "      <td>CASH_OUT</td>\n",
       "      <td>339682.13</td>\n",
       "      <td>C786484425</td>\n",
       "      <td>339682.13</td>\n",
       "      <td>0.0</td>\n",
       "      <td>C776919290</td>\n",
       "      <td>0.00</td>\n",
       "      <td>339682.13</td>\n",
       "      <td>1</td>\n",
       "      <td>0</td>\n",
       "    </tr>\n",
       "    <tr>\n",
       "      <th>6362616</th>\n",
       "      <td>743</td>\n",
       "      <td>TRANSFER</td>\n",
       "      <td>6311409.28</td>\n",
       "      <td>C1529008245</td>\n",
       "      <td>6311409.28</td>\n",
       "      <td>0.0</td>\n",
       "      <td>C1881841831</td>\n",
       "      <td>0.00</td>\n",
       "      <td>0.00</td>\n",
       "      <td>1</td>\n",
       "      <td>0</td>\n",
       "    </tr>\n",
       "    <tr>\n",
       "      <th>6362617</th>\n",
       "      <td>743</td>\n",
       "      <td>CASH_OUT</td>\n",
       "      <td>6311409.28</td>\n",
       "      <td>C1162922333</td>\n",
       "      <td>6311409.28</td>\n",
       "      <td>0.0</td>\n",
       "      <td>C1365125890</td>\n",
       "      <td>68488.84</td>\n",
       "      <td>6379898.11</td>\n",
       "      <td>1</td>\n",
       "      <td>0</td>\n",
       "    </tr>\n",
       "    <tr>\n",
       "      <th>6362618</th>\n",
       "      <td>743</td>\n",
       "      <td>TRANSFER</td>\n",
       "      <td>850002.52</td>\n",
       "      <td>C1685995037</td>\n",
       "      <td>850002.52</td>\n",
       "      <td>0.0</td>\n",
       "      <td>C2080388513</td>\n",
       "      <td>0.00</td>\n",
       "      <td>0.00</td>\n",
       "      <td>1</td>\n",
       "      <td>0</td>\n",
       "    </tr>\n",
       "    <tr>\n",
       "      <th>6362619</th>\n",
       "      <td>743</td>\n",
       "      <td>CASH_OUT</td>\n",
       "      <td>850002.52</td>\n",
       "      <td>C1280323807</td>\n",
       "      <td>850002.52</td>\n",
       "      <td>0.0</td>\n",
       "      <td>C873221189</td>\n",
       "      <td>6510099.11</td>\n",
       "      <td>7360101.63</td>\n",
       "      <td>1</td>\n",
       "      <td>0</td>\n",
       "    </tr>\n",
       "  </tbody>\n",
       "</table>\n",
       "</div>"
      ],
      "text/plain": [
       "         step      type      amount     nameOrig  oldbalanceOrg  \\\n",
       "6362615   743  CASH_OUT   339682.13   C786484425      339682.13   \n",
       "6362616   743  TRANSFER  6311409.28  C1529008245     6311409.28   \n",
       "6362617   743  CASH_OUT  6311409.28  C1162922333     6311409.28   \n",
       "6362618   743  TRANSFER   850002.52  C1685995037      850002.52   \n",
       "6362619   743  CASH_OUT   850002.52  C1280323807      850002.52   \n",
       "\n",
       "         newbalanceOrig     nameDest  oldbalanceDest  newbalanceDest  isFraud  \\\n",
       "6362615             0.0   C776919290            0.00       339682.13        1   \n",
       "6362616             0.0  C1881841831            0.00            0.00        1   \n",
       "6362617             0.0  C1365125890        68488.84      6379898.11        1   \n",
       "6362618             0.0  C2080388513            0.00            0.00        1   \n",
       "6362619             0.0   C873221189      6510099.11      7360101.63        1   \n",
       "\n",
       "         isFlaggedFraud  \n",
       "6362615               0  \n",
       "6362616               0  \n",
       "6362617               0  \n",
       "6362618               0  \n",
       "6362619               0  "
      ]
     },
     "execution_count": 7,
     "metadata": {},
     "output_type": "execute_result"
    }
   ],
   "source": [
    "# End 5 column in Data\n",
    "df.tail()"
   ]
  },
  {
   "cell_type": "code",
   "execution_count": 7,
   "id": "66053ec0",
   "metadata": {
    "colab": {
     "base_uri": "https://localhost:8080/"
    },
    "id": "66053ec0",
    "outputId": "6b61ac00-2a97-449b-b16c-710e7d87939a"
   },
   "outputs": [
    {
     "name": "stdout",
     "output_type": "stream",
     "text": [
      "<class 'pandas.core.frame.DataFrame'>\n",
      "RangeIndex: 6362620 entries, 0 to 6362619\n",
      "Data columns (total 11 columns):\n",
      " #   Column          Dtype  \n",
      "---  ------          -----  \n",
      " 0   step            int64  \n",
      " 1   type            object \n",
      " 2   amount          float64\n",
      " 3   nameOrig        object \n",
      " 4   oldbalanceOrg   float64\n",
      " 5   newbalanceOrig  float64\n",
      " 6   nameDest        object \n",
      " 7   oldbalanceDest  float64\n",
      " 8   newbalanceDest  float64\n",
      " 9   isFraud         int64  \n",
      " 10  isFlaggedFraud  int64  \n",
      "dtypes: float64(5), int64(3), object(3)\n",
      "memory usage: 534.0+ MB\n"
     ]
    }
   ],
   "source": [
    "# Information Of Data\n",
    "df.info()"
   ]
  },
  {
   "cell_type": "code",
   "execution_count": 8,
   "id": "c8bedda0",
   "metadata": {
    "colab": {
     "base_uri": "https://localhost:8080/",
     "height": 300
    },
    "id": "c8bedda0",
    "outputId": "2ebec854-73cf-4379-8bd6-f7bae55f1c95"
   },
   "outputs": [
    {
     "data": {
      "text/html": [
       "<div>\n",
       "<style scoped>\n",
       "    .dataframe tbody tr th:only-of-type {\n",
       "        vertical-align: middle;\n",
       "    }\n",
       "\n",
       "    .dataframe tbody tr th {\n",
       "        vertical-align: top;\n",
       "    }\n",
       "\n",
       "    .dataframe thead th {\n",
       "        text-align: right;\n",
       "    }\n",
       "</style>\n",
       "<table border=\"1\" class=\"dataframe\">\n",
       "  <thead>\n",
       "    <tr style=\"text-align: right;\">\n",
       "      <th></th>\n",
       "      <th>step</th>\n",
       "      <th>amount</th>\n",
       "      <th>oldbalanceOrg</th>\n",
       "      <th>newbalanceOrig</th>\n",
       "      <th>oldbalanceDest</th>\n",
       "      <th>newbalanceDest</th>\n",
       "      <th>isFraud</th>\n",
       "      <th>isFlaggedFraud</th>\n",
       "    </tr>\n",
       "  </thead>\n",
       "  <tbody>\n",
       "    <tr>\n",
       "      <th>count</th>\n",
       "      <td>6.362620e+06</td>\n",
       "      <td>6.362620e+06</td>\n",
       "      <td>6.362620e+06</td>\n",
       "      <td>6.362620e+06</td>\n",
       "      <td>6.362620e+06</td>\n",
       "      <td>6.362620e+06</td>\n",
       "      <td>6.362620e+06</td>\n",
       "      <td>6.362620e+06</td>\n",
       "    </tr>\n",
       "    <tr>\n",
       "      <th>mean</th>\n",
       "      <td>2.433972e+02</td>\n",
       "      <td>1.798619e+05</td>\n",
       "      <td>8.338831e+05</td>\n",
       "      <td>8.551137e+05</td>\n",
       "      <td>1.100702e+06</td>\n",
       "      <td>1.224996e+06</td>\n",
       "      <td>1.290820e-03</td>\n",
       "      <td>2.514687e-06</td>\n",
       "    </tr>\n",
       "    <tr>\n",
       "      <th>std</th>\n",
       "      <td>1.423320e+02</td>\n",
       "      <td>6.038582e+05</td>\n",
       "      <td>2.888243e+06</td>\n",
       "      <td>2.924049e+06</td>\n",
       "      <td>3.399180e+06</td>\n",
       "      <td>3.674129e+06</td>\n",
       "      <td>3.590480e-02</td>\n",
       "      <td>1.585775e-03</td>\n",
       "    </tr>\n",
       "    <tr>\n",
       "      <th>min</th>\n",
       "      <td>1.000000e+00</td>\n",
       "      <td>0.000000e+00</td>\n",
       "      <td>0.000000e+00</td>\n",
       "      <td>0.000000e+00</td>\n",
       "      <td>0.000000e+00</td>\n",
       "      <td>0.000000e+00</td>\n",
       "      <td>0.000000e+00</td>\n",
       "      <td>0.000000e+00</td>\n",
       "    </tr>\n",
       "    <tr>\n",
       "      <th>25%</th>\n",
       "      <td>1.560000e+02</td>\n",
       "      <td>1.338957e+04</td>\n",
       "      <td>0.000000e+00</td>\n",
       "      <td>0.000000e+00</td>\n",
       "      <td>0.000000e+00</td>\n",
       "      <td>0.000000e+00</td>\n",
       "      <td>0.000000e+00</td>\n",
       "      <td>0.000000e+00</td>\n",
       "    </tr>\n",
       "    <tr>\n",
       "      <th>50%</th>\n",
       "      <td>2.390000e+02</td>\n",
       "      <td>7.487194e+04</td>\n",
       "      <td>1.420800e+04</td>\n",
       "      <td>0.000000e+00</td>\n",
       "      <td>1.327057e+05</td>\n",
       "      <td>2.146614e+05</td>\n",
       "      <td>0.000000e+00</td>\n",
       "      <td>0.000000e+00</td>\n",
       "    </tr>\n",
       "    <tr>\n",
       "      <th>75%</th>\n",
       "      <td>3.350000e+02</td>\n",
       "      <td>2.087215e+05</td>\n",
       "      <td>1.073152e+05</td>\n",
       "      <td>1.442584e+05</td>\n",
       "      <td>9.430367e+05</td>\n",
       "      <td>1.111909e+06</td>\n",
       "      <td>0.000000e+00</td>\n",
       "      <td>0.000000e+00</td>\n",
       "    </tr>\n",
       "    <tr>\n",
       "      <th>max</th>\n",
       "      <td>7.430000e+02</td>\n",
       "      <td>9.244552e+07</td>\n",
       "      <td>5.958504e+07</td>\n",
       "      <td>4.958504e+07</td>\n",
       "      <td>3.560159e+08</td>\n",
       "      <td>3.561793e+08</td>\n",
       "      <td>1.000000e+00</td>\n",
       "      <td>1.000000e+00</td>\n",
       "    </tr>\n",
       "  </tbody>\n",
       "</table>\n",
       "</div>"
      ],
      "text/plain": [
       "               step        amount  oldbalanceOrg  newbalanceOrig  \\\n",
       "count  6.362620e+06  6.362620e+06   6.362620e+06    6.362620e+06   \n",
       "mean   2.433972e+02  1.798619e+05   8.338831e+05    8.551137e+05   \n",
       "std    1.423320e+02  6.038582e+05   2.888243e+06    2.924049e+06   \n",
       "min    1.000000e+00  0.000000e+00   0.000000e+00    0.000000e+00   \n",
       "25%    1.560000e+02  1.338957e+04   0.000000e+00    0.000000e+00   \n",
       "50%    2.390000e+02  7.487194e+04   1.420800e+04    0.000000e+00   \n",
       "75%    3.350000e+02  2.087215e+05   1.073152e+05    1.442584e+05   \n",
       "max    7.430000e+02  9.244552e+07   5.958504e+07    4.958504e+07   \n",
       "\n",
       "       oldbalanceDest  newbalanceDest       isFraud  isFlaggedFraud  \n",
       "count    6.362620e+06    6.362620e+06  6.362620e+06    6.362620e+06  \n",
       "mean     1.100702e+06    1.224996e+06  1.290820e-03    2.514687e-06  \n",
       "std      3.399180e+06    3.674129e+06  3.590480e-02    1.585775e-03  \n",
       "min      0.000000e+00    0.000000e+00  0.000000e+00    0.000000e+00  \n",
       "25%      0.000000e+00    0.000000e+00  0.000000e+00    0.000000e+00  \n",
       "50%      1.327057e+05    2.146614e+05  0.000000e+00    0.000000e+00  \n",
       "75%      9.430367e+05    1.111909e+06  0.000000e+00    0.000000e+00  \n",
       "max      3.560159e+08    3.561793e+08  1.000000e+00    1.000000e+00  "
      ]
     },
     "execution_count": 8,
     "metadata": {},
     "output_type": "execute_result"
    }
   ],
   "source": [
    "# Statistics for Numbers Data Only\n",
    "# ==> 8 column (dtypes { float64(5) + int64(3)} )\n",
    "df.describe()"
   ]
  },
  {
   "cell_type": "markdown",
   "id": "f4f6eb89",
   "metadata": {
    "id": "f4f6eb89"
   },
   "source": [
    "# *==============================================*"
   ]
  },
  {
   "cell_type": "markdown",
   "id": "316b49d3",
   "metadata": {
    "id": "316b49d3"
   },
   "source": [
    "## *Check is null*"
   ]
  },
  {
   "cell_type": "code",
   "execution_count": 9,
   "id": "403dc130",
   "metadata": {
    "colab": {
     "base_uri": "https://localhost:8080/",
     "height": 429
    },
    "id": "403dc130",
    "outputId": "f14fcae6-6526-417e-f293-066c611a838d"
   },
   "outputs": [
    {
     "data": {
      "text/plain": [
       "step              0\n",
       "type              0\n",
       "amount            0\n",
       "nameOrig          0\n",
       "oldbalanceOrg     0\n",
       "newbalanceOrig    0\n",
       "nameDest          0\n",
       "oldbalanceDest    0\n",
       "newbalanceDest    0\n",
       "isFraud           0\n",
       "isFlaggedFraud    0\n",
       "dtype: int64"
      ]
     },
     "execution_count": 9,
     "metadata": {},
     "output_type": "execute_result"
    }
   ],
   "source": [
    "df.isnull().sum()"
   ]
  },
  {
   "cell_type": "markdown",
   "id": "c4c6d3d7",
   "metadata": {
    "id": "c4c6d3d7"
   },
   "source": [
    "# *==============================================*"
   ]
  },
  {
   "cell_type": "markdown",
   "id": "82c714e0",
   "metadata": {
    "id": "82c714e0"
   },
   "source": [
    "## *Check is Dupicated*"
   ]
  },
  {
   "cell_type": "code",
   "execution_count": 10,
   "id": "841bd3b1",
   "metadata": {
    "colab": {
     "base_uri": "https://localhost:8080/"
    },
    "id": "841bd3b1",
    "outputId": "98898524-f1d3-4e32-a2c7-238beb3e8d37"
   },
   "outputs": [
    {
     "data": {
      "text/plain": [
       "0"
      ]
     },
     "execution_count": 10,
     "metadata": {},
     "output_type": "execute_result"
    }
   ],
   "source": [
    "df.duplicated().sum()"
   ]
  },
  {
   "cell_type": "markdown",
   "id": "392048ea",
   "metadata": {
    "id": "392048ea"
   },
   "source": [
    "# *==============================================*"
   ]
  },
  {
   "cell_type": "markdown",
   "id": "62764051",
   "metadata": {
    "id": "62764051"
   },
   "source": [
    "## *⚑ Data Analysis*"
   ]
  },
  {
   "cell_type": "code",
   "execution_count": 11,
   "id": "d6e6a78b",
   "metadata": {
    "id": "d6e6a78b"
   },
   "outputs": [
    {
     "data": {
      "image/png": "[encoded data removed]",
      "text/plain": [
       "<Figure size 864x360 with 2 Axes>"
      ]
     },
     "metadata": {
      "needs_background": "light"
     },
     "output_type": "display_data"
    }
   ],
   "source": [
    "# Value Count For output Data\n",
    "# =============================================\n",
    "# Show and Arrange Figure of data\n",
    "fig , axs = plt.subplots(1,2,figsize=(12,5))\n",
    "# =============================================\n",
    "ax_draw_value = sns.countplot(x = 'isFraud' , data = df , ax = axs[0])\n",
    "for p in ax_draw_value.patches:\n",
    "    ax_draw_value.text(p.get_x() + p.get_width()/2 , p.get_height()/2 , str(p.get_height()),\n",
    "                      ha = 'center' , color ='black' , size = 25)\n",
    "# =============================================\n",
    "df['isFraud'].value_counts().plot(kind = 'pie' , autopct = '%1.1f%%')\n",
    "axs[1].set_title('Fraud Transactions')\n",
    "axs[1].set_ylabel('');"
   ]
  },
  {
   "cell_type": "markdown",
   "id": "bb174879",
   "metadata": {
    "id": "bb174879"
   },
   "source": [
    "# *==============================================*"
   ]
  },
  {
   "cell_type": "markdown",
   "id": "8db5a9f9",
   "metadata": {
    "id": "8db5a9f9"
   },
   "source": [
    "### *Visualization for [Type] Column*"
   ]
  },
  {
   "cell_type": "code",
   "execution_count": 12,
   "id": "384bff18",
   "metadata": {
    "id": "384bff18"
   },
   "outputs": [
    {
     "data": {
      "image/png": "[encoded data removed]",
      "text/plain": [
       "<Figure size 864x504 with 1 Axes>"
      ]
     },
     "metadata": {
      "needs_background": "light"
     },
     "output_type": "display_data"
    }
   ],
   "source": [
    "# Show Column [Type] in Data Frame\n",
    "plt.figure(figsize=(12,7))\n",
    "# =============================================\n",
    "ax_draw_value = sns.countplot(x = 'type' , data = df )\n",
    "for p in ax_draw_value.patches:\n",
    "    ax_draw_value.text(p.get_x() + p.get_width()/2 , p.get_height()/2 , str(p.get_height()),\n",
    "                      ha = 'center' , color ='black' , size = 20)"
   ]
  },
  {
   "cell_type": "code",
   "execution_count": 13,
   "id": "c54ac3ce",
   "metadata": {
    "colab": {
     "base_uri": "https://localhost:8080/",
     "height": 829
    },
    "id": "c54ac3ce",
    "outputId": "54080f04-5275-49db-c16a-623990f327bc"
   },
   "outputs": [
    {
     "data": {
      "image/png": "[encoded data removed]",
      "text/plain": [
       "<Figure size 1440x720 with 1 Axes>"
      ]
     },
     "metadata": {},
     "output_type": "display_data"
    }
   ],
   "source": [
    "# Show Column [Type] in Data Frame with Graph (Pie)\n",
    "plt.figure(figsize=(20,10))\n",
    "shape_pie =  df['type'].value_counts().plot(kind = 'pie' , autopct = '%1.1f%%',\n",
    "                                explode = (0.03,0.03,0.03, 0.03, 0.03))\n",
    "shape_pie.set_title('Type Transactions')\n",
    "shape_pie.set_ylabel('');"
   ]
  },
  {
   "cell_type": "markdown",
   "id": "11006127",
   "metadata": {
    "id": "11006127"
   },
   "source": [
    "# *==============================================*"
   ]
  },
  {
   "cell_type": "markdown",
   "id": "14da7cce",
   "metadata": {
    "id": "14da7cce"
   },
   "source": [
    "### *Label Encoder*"
   ]
  },
  {
   "cell_type": "code",
   "execution_count": 14,
   "id": "ec3be165",
   "metadata": {
    "id": "ec3be165"
   },
   "outputs": [],
   "source": [
    "lab = LabelEncoder()\n",
    "df['type'] = lab.fit_transform(df['type'])"
   ]
  },
  {
   "cell_type": "code",
   "execution_count": 15,
   "id": "4426fe97",
   "metadata": {
    "id": "4426fe97"
   },
   "outputs": [
    {
     "data": {
      "text/html": [
       "<div>\n",
       "<style scoped>\n",
       "    .dataframe tbody tr th:only-of-type {\n",
       "        vertical-align: middle;\n",
       "    }\n",
       "\n",
       "    .dataframe tbody tr th {\n",
       "        vertical-align: top;\n",
       "    }\n",
       "\n",
       "    .dataframe thead th {\n",
       "        text-align: right;\n",
       "    }\n",
       "</style>\n",
       "<table border=\"1\" class=\"dataframe\">\n",
       "  <thead>\n",
       "    <tr style=\"text-align: right;\">\n",
       "      <th></th>\n",
       "      <th>step</th>\n",
       "      <th>type</th>\n",
       "      <th>amount</th>\n",
       "      <th>nameOrig</th>\n",
       "      <th>oldbalanceOrg</th>\n",
       "      <th>newbalanceOrig</th>\n",
       "      <th>nameDest</th>\n",
       "      <th>oldbalanceDest</th>\n",
       "      <th>newbalanceDest</th>\n",
       "      <th>isFraud</th>\n",
       "      <th>isFlaggedFraud</th>\n",
       "    </tr>\n",
       "  </thead>\n",
       "  <tbody>\n",
       "    <tr>\n",
       "      <th>0</th>\n",
       "      <td>1</td>\n",
       "      <td>3</td>\n",
       "      <td>9839.64</td>\n",
       "      <td>C1231006815</td>\n",
       "      <td>170136.0</td>\n",
       "      <td>160296.36</td>\n",
       "      <td>M1979787155</td>\n",
       "      <td>0.0</td>\n",
       "      <td>0.0</td>\n",
       "      <td>0</td>\n",
       "      <td>0</td>\n",
       "    </tr>\n",
       "    <tr>\n",
       "      <th>1</th>\n",
       "      <td>1</td>\n",
       "      <td>3</td>\n",
       "      <td>1864.28</td>\n",
       "      <td>C1666544295</td>\n",
       "      <td>21249.0</td>\n",
       "      <td>19384.72</td>\n",
       "      <td>M2044282225</td>\n",
       "      <td>0.0</td>\n",
       "      <td>0.0</td>\n",
       "      <td>0</td>\n",
       "      <td>0</td>\n",
       "    </tr>\n",
       "    <tr>\n",
       "      <th>2</th>\n",
       "      <td>1</td>\n",
       "      <td>4</td>\n",
       "      <td>181.00</td>\n",
       "      <td>C1305486145</td>\n",
       "      <td>181.0</td>\n",
       "      <td>0.00</td>\n",
       "      <td>C553264065</td>\n",
       "      <td>0.0</td>\n",
       "      <td>0.0</td>\n",
       "      <td>1</td>\n",
       "      <td>0</td>\n",
       "    </tr>\n",
       "    <tr>\n",
       "      <th>3</th>\n",
       "      <td>1</td>\n",
       "      <td>1</td>\n",
       "      <td>181.00</td>\n",
       "      <td>C840083671</td>\n",
       "      <td>181.0</td>\n",
       "      <td>0.00</td>\n",
       "      <td>C38997010</td>\n",
       "      <td>21182.0</td>\n",
       "      <td>0.0</td>\n",
       "      <td>1</td>\n",
       "      <td>0</td>\n",
       "    </tr>\n",
       "    <tr>\n",
       "      <th>4</th>\n",
       "      <td>1</td>\n",
       "      <td>3</td>\n",
       "      <td>11668.14</td>\n",
       "      <td>C2048537720</td>\n",
       "      <td>41554.0</td>\n",
       "      <td>29885.86</td>\n",
       "      <td>M1230701703</td>\n",
       "      <td>0.0</td>\n",
       "      <td>0.0</td>\n",
       "      <td>0</td>\n",
       "      <td>0</td>\n",
       "    </tr>\n",
       "  </tbody>\n",
       "</table>\n",
       "</div>"
      ],
      "text/plain": [
       "   step  type    amount     nameOrig  oldbalanceOrg  newbalanceOrig  \\\n",
       "0     1     3   9839.64  C1231006815       170136.0       160296.36   \n",
       "1     1     3   1864.28  C1666544295        21249.0        19384.72   \n",
       "2     1     4    181.00  C1305486145          181.0            0.00   \n",
       "3     1     1    181.00   C840083671          181.0            0.00   \n",
       "4     1     3  11668.14  C2048537720        41554.0        29885.86   \n",
       "\n",
       "      nameDest  oldbalanceDest  newbalanceDest  isFraud  isFlaggedFraud  \n",
       "0  M1979787155             0.0             0.0        0               0  \n",
       "1  M2044282225             0.0             0.0        0               0  \n",
       "2   C553264065             0.0             0.0        1               0  \n",
       "3    C38997010         21182.0             0.0        1               0  \n",
       "4  M1230701703             0.0             0.0        0               0  "
      ]
     },
     "execution_count": 15,
     "metadata": {},
     "output_type": "execute_result"
    }
   ],
   "source": [
    "df.head()"
   ]
  },
  {
   "cell_type": "markdown",
   "id": "1815b47b",
   "metadata": {
    "id": "1815b47b"
   },
   "source": [
    "# *==============================================*"
   ]
  },
  {
   "cell_type": "markdown",
   "id": "6815e155",
   "metadata": {
    "id": "6815e155"
   },
   "source": [
    "### Correlation"
   ]
  },
  {
   "cell_type": "code",
   "execution_count": 16,
   "id": "32a0732f",
   "metadata": {
    "id": "32a0732f"
   },
   "outputs": [
    {
     "data": {
      "image/png": "[encoded data removed]",
      "text/plain": [
       "<Figure size 864x504 with 2 Axes>"
      ]
     },
     "metadata": {
      "needs_background": "light"
     },
     "output_type": "display_data"
    }
   ],
   "source": [
    "# Relation Between Columns [The Value]\n",
    "cor = df.corr(numeric_only = True)\n",
    "plt.figure(figsize=(12,7))\n",
    "sns.heatmap(cor,annot = True , fmt = '.1f',linewidth=1.5);"
   ]
  },
  {
   "cell_type": "code",
   "execution_count": 17,
   "id": "449026f1",
   "metadata": {
    "id": "449026f1"
   },
   "outputs": [
    {
     "data": {
      "image/png": "[encoded data removed]",
      "text/plain": [
       "<Figure size 864x504 with 2 Axes>"
      ]
     },
     "metadata": {
      "needs_background": "light"
     },
     "output_type": "display_data"
    }
   ],
   "source": [
    "# Relation Between Columns [Rank]\n",
    "plt.figure(figsize=(12,7))\n",
    "sns.heatmap(cor.rank(axis ='columns'),annot = True , fmt = '.1f',linewidth=1.5);"
   ]
  },
  {
   "cell_type": "markdown",
   "id": "06a912d6",
   "metadata": {
    "id": "06a912d6"
   },
   "source": [
    "## =======================================================\n",
    "### [ (isFlaggedFraud & step) is unnecessary features based on correlation]\n",
    "## ======================================================="
   ]
  },
  {
   "cell_type": "code",
   "execution_count": 18,
   "id": "6836bfaa",
   "metadata": {
    "id": "6836bfaa"
   },
   "outputs": [
    {
     "name": "stdout",
     "output_type": "stream",
     "text": [
      "isFraud           1.000000\n",
      "amount            0.076688\n",
      "isFlaggedFraud    0.044109\n",
      "step              0.031578\n",
      "type              0.020833\n",
      "oldbalanceOrg     0.010154\n",
      "newbalanceDest    0.000535\n",
      "oldbalanceDest   -0.005885\n",
      "newbalanceOrig   -0.008148\n",
      "Name: isFraud, dtype: float64\n",
      "============================================\n",
      "isFraud           9.0\n",
      "amount            8.0\n",
      "isFlaggedFraud    7.0\n",
      "step              6.0\n",
      "type              5.0\n",
      "oldbalanceOrg     4.0\n",
      "newbalanceDest    3.0\n",
      "oldbalanceDest    2.0\n",
      "newbalanceOrig    1.0\n",
      "Name: isFraud, dtype: float64\n"
     ]
    }
   ],
   "source": [
    "print(cor['isFraud'].sort_values(ascending=False))\n",
    "print('============================================')\n",
    "print(cor['isFraud'].rank().sort_values(ascending=False))"
   ]
  },
  {
   "cell_type": "markdown",
   "id": "6a0c4902",
   "metadata": {
    "id": "6a0c4902"
   },
   "source": [
    "# *==============================================*"
   ]
  },
  {
   "cell_type": "markdown",
   "id": "c2f8a8ef",
   "metadata": {
    "id": "c2f8a8ef"
   },
   "source": [
    "### Skewness"
   ]
  },
  {
   "cell_type": "code",
   "execution_count": 24,
   "id": "b6fe098b",
   "metadata": {
    "colab": {
     "base_uri": "https://localhost:8080/",
     "height": 465
    },
    "id": "b6fe098b",
    "outputId": "07840f70-e746-41e5-8e03-a61fd2d01972"
   },
   "outputs": [
    {
     "data": {
      "image/png": "[encoded data removed]",
      "text/plain": [
       "<Figure size 720x360 with 2 Axes>"
      ]
     },
     "metadata": {
      "needs_background": "light"
     },
     "output_type": "display_data"
    }
   ],
   "source": [
    "plt.figure(figsize=(10, 5))\n",
    "sns.heatmap(pd.DataFrame(df.select_dtypes(exclude='object').skew().sort_values(ascending=True))\n",
    "            ,annot=True,annot_kws={'fontsize': 14})\n",
    "plt.xlabel('Skewness')\n",
    "plt.show()"
   ]
  },
  {
   "cell_type": "markdown",
   "id": "5ea3a051",
   "metadata": {
    "id": "5ea3a051"
   },
   "source": [
    "## =======================================================\n",
    "### [ (isFlaggedFraud ) is unnecessary features based on Skewness]\n",
    "## ======================================================="
   ]
  },
  {
   "cell_type": "markdown",
   "id": "cf147949",
   "metadata": {
    "id": "cf147949"
   },
   "source": [
    "## *Data Preprocessing*"
   ]
  },
  {
   "cell_type": "code",
   "execution_count": 25,
   "id": "af4cfe6b",
   "metadata": {
    "id": "af4cfe6b"
   },
   "outputs": [
    {
     "data": {
      "text/html": [
       "<div>\n",
       "<style scoped>\n",
       "    .dataframe tbody tr th:only-of-type {\n",
       "        vertical-align: middle;\n",
       "    }\n",
       "\n",
       "    .dataframe tbody tr th {\n",
       "        vertical-align: top;\n",
       "    }\n",
       "\n",
       "    .dataframe thead th {\n",
       "        text-align: right;\n",
       "    }\n",
       "</style>\n",
       "<table border=\"1\" class=\"dataframe\">\n",
       "  <thead>\n",
       "    <tr style=\"text-align: right;\">\n",
       "      <th></th>\n",
       "      <th>step</th>\n",
       "      <th>type</th>\n",
       "      <th>amount</th>\n",
       "      <th>oldbalanceOrg</th>\n",
       "      <th>newbalanceOrig</th>\n",
       "      <th>oldbalanceDest</th>\n",
       "      <th>newbalanceDest</th>\n",
       "      <th>isFlaggedFraud</th>\n",
       "    </tr>\n",
       "  </thead>\n",
       "  <tbody>\n",
       "    <tr>\n",
       "      <th>0</th>\n",
       "      <td>1</td>\n",
       "      <td>3</td>\n",
       "      <td>9839.64</td>\n",
       "      <td>170136.0</td>\n",
       "      <td>160296.36</td>\n",
       "      <td>0.0</td>\n",
       "      <td>0.0</td>\n",
       "      <td>0</td>\n",
       "    </tr>\n",
       "    <tr>\n",
       "      <th>1</th>\n",
       "      <td>1</td>\n",
       "      <td>3</td>\n",
       "      <td>1864.28</td>\n",
       "      <td>21249.0</td>\n",
       "      <td>19384.72</td>\n",
       "      <td>0.0</td>\n",
       "      <td>0.0</td>\n",
       "      <td>0</td>\n",
       "    </tr>\n",
       "    <tr>\n",
       "      <th>2</th>\n",
       "      <td>1</td>\n",
       "      <td>4</td>\n",
       "      <td>181.00</td>\n",
       "      <td>181.0</td>\n",
       "      <td>0.00</td>\n",
       "      <td>0.0</td>\n",
       "      <td>0.0</td>\n",
       "      <td>0</td>\n",
       "    </tr>\n",
       "    <tr>\n",
       "      <th>3</th>\n",
       "      <td>1</td>\n",
       "      <td>1</td>\n",
       "      <td>181.00</td>\n",
       "      <td>181.0</td>\n",
       "      <td>0.00</td>\n",
       "      <td>21182.0</td>\n",
       "      <td>0.0</td>\n",
       "      <td>0</td>\n",
       "    </tr>\n",
       "    <tr>\n",
       "      <th>4</th>\n",
       "      <td>1</td>\n",
       "      <td>3</td>\n",
       "      <td>11668.14</td>\n",
       "      <td>41554.0</td>\n",
       "      <td>29885.86</td>\n",
       "      <td>0.0</td>\n",
       "      <td>0.0</td>\n",
       "      <td>0</td>\n",
       "    </tr>\n",
       "  </tbody>\n",
       "</table>\n",
       "</div>"
      ],
      "text/plain": [
       "   step  type    amount  oldbalanceOrg  newbalanceOrig  oldbalanceDest  \\\n",
       "0     1     3   9839.64       170136.0       160296.36             0.0   \n",
       "1     1     3   1864.28        21249.0        19384.72             0.0   \n",
       "2     1     4    181.00          181.0            0.00             0.0   \n",
       "3     1     1    181.00          181.0            0.00         21182.0   \n",
       "4     1     3  11668.14        41554.0        29885.86             0.0   \n",
       "\n",
       "   newbalanceDest  isFlaggedFraud  \n",
       "0             0.0               0  \n",
       "1             0.0               0  \n",
       "2             0.0               0  \n",
       "3             0.0               0  \n",
       "4             0.0               0  "
      ]
     },
     "execution_count": 25,
     "metadata": {},
     "output_type": "execute_result"
    }
   ],
   "source": [
    "# Drop The Categorical Data [Text Data]\n",
    "# Split Data to { Train & Test}\n",
    "x = df.drop(['isFraud','nameOrig','nameDest'] , axis = 1)\n",
    "y = df['isFraud']\n",
    "# =================================\n",
    "x.head()"
   ]
  },
  {
   "cell_type": "markdown",
   "id": "0336d4aa",
   "metadata": {
    "id": "0336d4aa"
   },
   "source": [
    "### =========================================\n",
    "### Feature Selection\n",
    "### ========================================="
   ]
  },
  {
   "cell_type": "code",
   "execution_count": 26,
   "id": "dfd32a29",
   "metadata": {
    "colab": {
     "base_uri": "https://localhost:8080/"
    },
    "id": "dfd32a29",
    "outputId": "99a0fd3c-85ee-43b6-9c0b-e55902b7bb81"
   },
   "outputs": [
    {
     "name": "stdout",
     "output_type": "stream",
     "text": [
      "X new Shape =  (6362620, 5)\n",
      "==========================\n",
      "Selected Feature are =  [False False  True  True  True  True  True False]\n"
     ]
    }
   ],
   "source": [
    "FeatureSelection_method = SelectKBest(score_func=chi2 ,k = 5)\n",
    "X = FeatureSelection_method.fit_transform(x,y)\n",
    "print('X new Shape = ', X.shape)\n",
    "print('==========================')\n",
    "print('Selected Feature are = ',FeatureSelection_method.get_support())"
   ]
  },
  {
   "cell_type": "markdown",
   "id": "e5456e1a",
   "metadata": {
    "id": "e5456e1a"
   },
   "source": [
    "# *==============================================*"
   ]
  },
  {
   "cell_type": "markdown",
   "id": "46050bbc",
   "metadata": {
    "id": "46050bbc"
   },
   "source": [
    "### Dropping unnecessary features based on Feature Selection"
   ]
  },
  {
   "cell_type": "code",
   "execution_count": 27,
   "id": "19e34f2c",
   "metadata": {
    "colab": {
     "base_uri": "https://localhost:8080/",
     "height": 206
    },
    "id": "19e34f2c",
    "outputId": "c7781922-edd9-4953-b1dc-5fdd708c6407"
   },
   "outputs": [
    {
     "data": {
      "text/html": [
       "<div>\n",
       "<style scoped>\n",
       "    .dataframe tbody tr th:only-of-type {\n",
       "        vertical-align: middle;\n",
       "    }\n",
       "\n",
       "    .dataframe tbody tr th {\n",
       "        vertical-align: top;\n",
       "    }\n",
       "\n",
       "    .dataframe thead th {\n",
       "        text-align: right;\n",
       "    }\n",
       "</style>\n",
       "<table border=\"1\" class=\"dataframe\">\n",
       "  <thead>\n",
       "    <tr style=\"text-align: right;\">\n",
       "      <th></th>\n",
       "      <th>type</th>\n",
       "      <th>amount</th>\n",
       "      <th>oldbalanceOrg</th>\n",
       "      <th>newbalanceOrig</th>\n",
       "      <th>oldbalanceDest</th>\n",
       "      <th>newbalanceDest</th>\n",
       "    </tr>\n",
       "  </thead>\n",
       "  <tbody>\n",
       "    <tr>\n",
       "      <th>0</th>\n",
       "      <td>3</td>\n",
       "      <td>9839.64</td>\n",
       "      <td>170136.0</td>\n",
       "      <td>160296.36</td>\n",
       "      <td>0.0</td>\n",
       "      <td>0.0</td>\n",
       "    </tr>\n",
       "    <tr>\n",
       "      <th>1</th>\n",
       "      <td>3</td>\n",
       "      <td>1864.28</td>\n",
       "      <td>21249.0</td>\n",
       "      <td>19384.72</td>\n",
       "      <td>0.0</td>\n",
       "      <td>0.0</td>\n",
       "    </tr>\n",
       "    <tr>\n",
       "      <th>2</th>\n",
       "      <td>4</td>\n",
       "      <td>181.00</td>\n",
       "      <td>181.0</td>\n",
       "      <td>0.00</td>\n",
       "      <td>0.0</td>\n",
       "      <td>0.0</td>\n",
       "    </tr>\n",
       "    <tr>\n",
       "      <th>3</th>\n",
       "      <td>1</td>\n",
       "      <td>181.00</td>\n",
       "      <td>181.0</td>\n",
       "      <td>0.00</td>\n",
       "      <td>21182.0</td>\n",
       "      <td>0.0</td>\n",
       "    </tr>\n",
       "    <tr>\n",
       "      <th>4</th>\n",
       "      <td>3</td>\n",
       "      <td>11668.14</td>\n",
       "      <td>41554.0</td>\n",
       "      <td>29885.86</td>\n",
       "      <td>0.0</td>\n",
       "      <td>0.0</td>\n",
       "    </tr>\n",
       "  </tbody>\n",
       "</table>\n",
       "</div>"
      ],
      "text/plain": [
       "   type    amount  oldbalanceOrg  newbalanceOrig  oldbalanceDest  \\\n",
       "0     3   9839.64       170136.0       160296.36             0.0   \n",
       "1     3   1864.28        21249.0        19384.72             0.0   \n",
       "2     4    181.00          181.0            0.00             0.0   \n",
       "3     1    181.00          181.0            0.00         21182.0   \n",
       "4     3  11668.14        41554.0        29885.86             0.0   \n",
       "\n",
       "   newbalanceDest  \n",
       "0             0.0  \n",
       "1             0.0  \n",
       "2             0.0  \n",
       "3             0.0  \n",
       "4             0.0  "
      ]
     },
     "execution_count": 27,
     "metadata": {},
     "output_type": "execute_result"
    }
   ],
   "source": [
    "x = df.drop(['isFraud','nameOrig','nameDest','step','isFlaggedFraud'] , axis = 1)\n",
    "y = df['isFraud']\n",
    "# =================================\n",
    "x.head()"
   ]
  },
  {
   "cell_type": "markdown",
   "id": "1eddd984",
   "metadata": {
    "id": "1eddd984"
   },
   "source": [
    "# *==============================================*"
   ]
  },
  {
   "cell_type": "markdown",
   "id": "ada2b0e8",
   "metadata": {
    "id": "ada2b0e8"
   },
   "source": [
    "### Data Splitting"
   ]
  },
  {
   "cell_type": "code",
   "execution_count": 28,
   "id": "5ee08409",
   "metadata": {
    "colab": {
     "base_uri": "https://localhost:8080/"
    },
    "id": "5ee08409",
    "outputId": "b8672161-d2f7-4903-9e7f-16803b6314b6"
   },
   "outputs": [
    {
     "name": "stdout",
     "output_type": "stream",
     "text": [
      "Train Data\n",
      "(5090096, 6)\n",
      "(5090096,)\n",
      "\n",
      "Test Data\n",
      "(1272524, 6)\n",
      "(1272524,)\n"
     ]
    }
   ],
   "source": [
    "# Split Data\n",
    "x_train , x_test , y_train , y_test = train_test_split(x , y ,  test_size=0.2, random_state=42)\n",
    "# =============================\n",
    "print('Train Data')\n",
    "print(x_train.shape)\n",
    "print(y_train.shape)\n",
    "print('\\nTest Data')\n",
    "print(x_test.shape)\n",
    "print(y_test.shape)"
   ]
  },
  {
   "cell_type": "markdown",
   "id": "aca1702e",
   "metadata": {
    "id": "aca1702e"
   },
   "source": [
    "# *==============================================*"
   ]
  },
  {
   "cell_type": "markdown",
   "id": "68ba1165",
   "metadata": {
    "id": "68ba1165"
   },
   "source": [
    "### Data Scaling"
   ]
  },
  {
   "cell_type": "code",
   "execution_count": 29,
   "id": "59c999a8",
   "metadata": {
    "id": "59c999a8"
   },
   "outputs": [],
   "source": [
    "# RobustScaler For Scaling\n",
    "scaler = RobustScaler()\n",
    "scaler.fit(x_train)\n",
    "\n",
    "x_train_scaled = scaler.transform(x_train)\n",
    "x_test_scaled = scaler.transform(x_test)"
   ]
  },
  {
   "cell_type": "code",
   "execution_count": 30,
   "id": "9b575392",
   "metadata": {
    "colab": {
     "base_uri": "https://localhost:8080/",
     "height": 423
    },
    "id": "9b575392",
    "outputId": "33c06cef-414d-4032-ad2f-1430e74d1dfe"
   },
   "outputs": [
    {
     "data": {
      "text/html": [
       "<div>\n",
       "<style scoped>\n",
       "    .dataframe tbody tr th:only-of-type {\n",
       "        vertical-align: middle;\n",
       "    }\n",
       "\n",
       "    .dataframe tbody tr th {\n",
       "        vertical-align: top;\n",
       "    }\n",
       "\n",
       "    .dataframe thead th {\n",
       "        text-align: right;\n",
       "    }\n",
       "</style>\n",
       "<table border=\"1\" class=\"dataframe\">\n",
       "  <thead>\n",
       "    <tr style=\"text-align: right;\">\n",
       "      <th></th>\n",
       "      <th>type</th>\n",
       "      <th>amount</th>\n",
       "      <th>oldbalanceOrg</th>\n",
       "      <th>newbalanceOrig</th>\n",
       "      <th>oldbalanceDest</th>\n",
       "      <th>newbalanceDest</th>\n",
       "    </tr>\n",
       "  </thead>\n",
       "  <tbody>\n",
       "    <tr>\n",
       "      <th>0</th>\n",
       "      <td>-0.5</td>\n",
       "      <td>1.595501</td>\n",
       "      <td>43.384227</td>\n",
       "      <td>35.067407</td>\n",
       "      <td>0.396433</td>\n",
       "      <td>-0.085389</td>\n",
       "    </tr>\n",
       "    <tr>\n",
       "      <th>1</th>\n",
       "      <td>-0.5</td>\n",
       "      <td>0.704709</td>\n",
       "      <td>2.054442</td>\n",
       "      <td>3.100981</td>\n",
       "      <td>0.714989</td>\n",
       "      <td>0.341184</td>\n",
       "    </tr>\n",
       "    <tr>\n",
       "      <th>2</th>\n",
       "      <td>1.0</td>\n",
       "      <td>-0.281166</td>\n",
       "      <td>-0.098289</td>\n",
       "      <td>0.000000</td>\n",
       "      <td>-0.140896</td>\n",
       "      <td>-0.193083</td>\n",
       "    </tr>\n",
       "    <tr>\n",
       "      <th>3</th>\n",
       "      <td>0.0</td>\n",
       "      <td>2.318841</td>\n",
       "      <td>1.547304</td>\n",
       "      <td>0.000000</td>\n",
       "      <td>-0.043040</td>\n",
       "      <td>0.364761</td>\n",
       "    </tr>\n",
       "    <tr>\n",
       "      <th>4</th>\n",
       "      <td>1.5</td>\n",
       "      <td>0.671977</td>\n",
       "      <td>-0.132155</td>\n",
       "      <td>0.000000</td>\n",
       "      <td>2.122415</td>\n",
       "      <td>1.910904</td>\n",
       "    </tr>\n",
       "    <tr>\n",
       "      <th>...</th>\n",
       "      <td>...</td>\n",
       "      <td>...</td>\n",
       "      <td>...</td>\n",
       "      <td>...</td>\n",
       "      <td>...</td>\n",
       "      <td>...</td>\n",
       "    </tr>\n",
       "    <tr>\n",
       "      <th>5090091</th>\n",
       "      <td>-0.5</td>\n",
       "      <td>0.280928</td>\n",
       "      <td>46.969152</td>\n",
       "      <td>35.955300</td>\n",
       "      <td>0.121053</td>\n",
       "      <td>-0.087795</td>\n",
       "    </tr>\n",
       "    <tr>\n",
       "      <th>5090092</th>\n",
       "      <td>1.0</td>\n",
       "      <td>-0.370836</td>\n",
       "      <td>-0.132155</td>\n",
       "      <td>0.000000</td>\n",
       "      <td>-0.140896</td>\n",
       "      <td>-0.193083</td>\n",
       "    </tr>\n",
       "    <tr>\n",
       "      <th>5090093</th>\n",
       "      <td>0.0</td>\n",
       "      <td>-0.329251</td>\n",
       "      <td>0.420275</td>\n",
       "      <td>0.337775</td>\n",
       "      <td>0.201818</td>\n",
       "      <td>0.106943</td>\n",
       "    </tr>\n",
       "    <tr>\n",
       "      <th>5090094</th>\n",
       "      <td>0.0</td>\n",
       "      <td>-0.009446</td>\n",
       "      <td>0.056921</td>\n",
       "      <td>0.000000</td>\n",
       "      <td>0.131045</td>\n",
       "      <td>0.103154</td>\n",
       "    </tr>\n",
       "    <tr>\n",
       "      <th>5090095</th>\n",
       "      <td>0.0</td>\n",
       "      <td>0.075974</td>\n",
       "      <td>1.695059</td>\n",
       "      <td>0.737783</td>\n",
       "      <td>-0.140896</td>\n",
       "      <td>-0.112347</td>\n",
       "    </tr>\n",
       "  </tbody>\n",
       "</table>\n",
       "<p>5090096 rows × 6 columns</p>\n",
       "</div>"
      ],
      "text/plain": [
       "         type    amount  oldbalanceOrg  newbalanceOrig  oldbalanceDest  \\\n",
       "0        -0.5  1.595501      43.384227       35.067407        0.396433   \n",
       "1        -0.5  0.704709       2.054442        3.100981        0.714989   \n",
       "2         1.0 -0.281166      -0.098289        0.000000       -0.140896   \n",
       "3         0.0  2.318841       1.547304        0.000000       -0.043040   \n",
       "4         1.5  0.671977      -0.132155        0.000000        2.122415   \n",
       "...       ...       ...            ...             ...             ...   \n",
       "5090091  -0.5  0.280928      46.969152       35.955300        0.121053   \n",
       "5090092   1.0 -0.370836      -0.132155        0.000000       -0.140896   \n",
       "5090093   0.0 -0.329251       0.420275        0.337775        0.201818   \n",
       "5090094   0.0 -0.009446       0.056921        0.000000        0.131045   \n",
       "5090095   0.0  0.075974       1.695059        0.737783       -0.140896   \n",
       "\n",
       "         newbalanceDest  \n",
       "0             -0.085389  \n",
       "1              0.341184  \n",
       "2             -0.193083  \n",
       "3              0.364761  \n",
       "4              1.910904  \n",
       "...                 ...  \n",
       "5090091       -0.087795  \n",
       "5090092       -0.193083  \n",
       "5090093        0.106943  \n",
       "5090094        0.103154  \n",
       "5090095       -0.112347  \n",
       "\n",
       "[5090096 rows x 6 columns]"
      ]
     },
     "execution_count": 30,
     "metadata": {},
     "output_type": "execute_result"
    }
   ],
   "source": [
    "pd.DataFrame(x_train_scaled, columns=x.columns)"
   ]
  },
  {
   "cell_type": "code",
   "execution_count": 31,
   "id": "b98bab6c",
   "metadata": {
    "colab": {
     "base_uri": "https://localhost:8080/",
     "height": 423
    },
    "id": "b98bab6c",
    "outputId": "ca003df4-4cb3-498b-ae6e-31bdfca4f5aa"
   },
   "outputs": [
    {
     "data": {
      "text/html": [
       "<div>\n",
       "<style scoped>\n",
       "    .dataframe tbody tr th:only-of-type {\n",
       "        vertical-align: middle;\n",
       "    }\n",
       "\n",
       "    .dataframe tbody tr th {\n",
       "        vertical-align: top;\n",
       "    }\n",
       "\n",
       "    .dataframe thead th {\n",
       "        text-align: right;\n",
       "    }\n",
       "</style>\n",
       "<table border=\"1\" class=\"dataframe\">\n",
       "  <thead>\n",
       "    <tr style=\"text-align: right;\">\n",
       "      <th></th>\n",
       "      <th>type</th>\n",
       "      <th>amount</th>\n",
       "      <th>oldbalanceOrg</th>\n",
       "      <th>newbalanceOrig</th>\n",
       "      <th>oldbalanceDest</th>\n",
       "      <th>newbalanceDest</th>\n",
       "    </tr>\n",
       "  </thead>\n",
       "  <tbody>\n",
       "    <tr>\n",
       "      <th>0</th>\n",
       "      <td>-0.5</td>\n",
       "      <td>1.307835</td>\n",
       "      <td>0.062298</td>\n",
       "      <td>2.435074</td>\n",
       "      <td>0.339502</td>\n",
       "      <td>-0.083093</td>\n",
       "    </tr>\n",
       "    <tr>\n",
       "      <th>1</th>\n",
       "      <td>1.0</td>\n",
       "      <td>-0.323781</td>\n",
       "      <td>0.150868</td>\n",
       "      <td>0.129860</td>\n",
       "      <td>-0.140896</td>\n",
       "      <td>-0.193083</td>\n",
       "    </tr>\n",
       "    <tr>\n",
       "      <th>2</th>\n",
       "      <td>-0.5</td>\n",
       "      <td>0.396413</td>\n",
       "      <td>0.861163</td>\n",
       "      <td>1.795371</td>\n",
       "      <td>0.072856</td>\n",
       "      <td>-0.148945</td>\n",
       "    </tr>\n",
       "    <tr>\n",
       "      <th>3</th>\n",
       "      <td>1.5</td>\n",
       "      <td>7.564164</td>\n",
       "      <td>-0.132155</td>\n",
       "      <td>0.000000</td>\n",
       "      <td>3.255257</td>\n",
       "      <td>4.082394</td>\n",
       "    </tr>\n",
       "    <tr>\n",
       "      <th>4</th>\n",
       "      <td>-0.5</td>\n",
       "      <td>0.016939</td>\n",
       "      <td>27.092153</td>\n",
       "      <td>20.804150</td>\n",
       "      <td>0.300641</td>\n",
       "      <td>0.110828</td>\n",
       "    </tr>\n",
       "    <tr>\n",
       "      <th>...</th>\n",
       "      <td>...</td>\n",
       "      <td>...</td>\n",
       "      <td>...</td>\n",
       "      <td>...</td>\n",
       "      <td>...</td>\n",
       "      <td>...</td>\n",
       "    </tr>\n",
       "    <tr>\n",
       "      <th>1272519</th>\n",
       "      <td>1.0</td>\n",
       "      <td>-0.378732</td>\n",
       "      <td>-0.042635</td>\n",
       "      <td>0.060259</td>\n",
       "      <td>-0.140896</td>\n",
       "      <td>-0.193083</td>\n",
       "    </tr>\n",
       "    <tr>\n",
       "      <th>1272520</th>\n",
       "      <td>1.0</td>\n",
       "      <td>-0.380972</td>\n",
       "      <td>-0.088513</td>\n",
       "      <td>0.029147</td>\n",
       "      <td>-0.140896</td>\n",
       "      <td>-0.193083</td>\n",
       "    </tr>\n",
       "    <tr>\n",
       "      <th>1272521</th>\n",
       "      <td>0.0</td>\n",
       "      <td>0.889360</td>\n",
       "      <td>-0.127430</td>\n",
       "      <td>0.000000</td>\n",
       "      <td>-0.115616</td>\n",
       "      <td>0.052026</td>\n",
       "    </tr>\n",
       "    <tr>\n",
       "      <th>1272522</th>\n",
       "      <td>0.0</td>\n",
       "      <td>0.640944</td>\n",
       "      <td>-0.132155</td>\n",
       "      <td>0.000000</td>\n",
       "      <td>0.485563</td>\n",
       "      <td>0.517962</td>\n",
       "    </tr>\n",
       "    <tr>\n",
       "      <th>1272523</th>\n",
       "      <td>-0.5</td>\n",
       "      <td>-0.137253</td>\n",
       "      <td>1.752241</td>\n",
       "      <td>1.735863</td>\n",
       "      <td>0.490656</td>\n",
       "      <td>0.298992</td>\n",
       "    </tr>\n",
       "  </tbody>\n",
       "</table>\n",
       "<p>1272524 rows × 6 columns</p>\n",
       "</div>"
      ],
      "text/plain": [
       "         type    amount  oldbalanceOrg  newbalanceOrig  oldbalanceDest  \\\n",
       "0        -0.5  1.307835       0.062298        2.435074        0.339502   \n",
       "1         1.0 -0.323781       0.150868        0.129860       -0.140896   \n",
       "2        -0.5  0.396413       0.861163        1.795371        0.072856   \n",
       "3         1.5  7.564164      -0.132155        0.000000        3.255257   \n",
       "4        -0.5  0.016939      27.092153       20.804150        0.300641   \n",
       "...       ...       ...            ...             ...             ...   \n",
       "1272519   1.0 -0.378732      -0.042635        0.060259       -0.140896   \n",
       "1272520   1.0 -0.380972      -0.088513        0.029147       -0.140896   \n",
       "1272521   0.0  0.889360      -0.127430        0.000000       -0.115616   \n",
       "1272522   0.0  0.640944      -0.132155        0.000000        0.485563   \n",
       "1272523  -0.5 -0.137253       1.752241        1.735863        0.490656   \n",
       "\n",
       "         newbalanceDest  \n",
       "0             -0.083093  \n",
       "1             -0.193083  \n",
       "2             -0.148945  \n",
       "3              4.082394  \n",
       "4              0.110828  \n",
       "...                 ...  \n",
       "1272519       -0.193083  \n",
       "1272520       -0.193083  \n",
       "1272521        0.052026  \n",
       "1272522        0.517962  \n",
       "1272523        0.298992  \n",
       "\n",
       "[1272524 rows x 6 columns]"
      ]
     },
     "execution_count": 31,
     "metadata": {},
     "output_type": "execute_result"
    }
   ],
   "source": [
    "pd.DataFrame(x_test_scaled, columns=x.columns)"
   ]
  },
  {
   "cell_type": "markdown",
   "id": "32187a1b",
   "metadata": {
    "id": "32187a1b"
   },
   "source": [
    "# *==============================================*"
   ]
  },
  {
   "cell_type": "markdown",
   "id": "2b83a6cd",
   "metadata": {
    "id": "2b83a6cd"
   },
   "source": [
    "# 3) - *Machine Learning Model*"
   ]
  },
  {
   "cell_type": "code",
   "execution_count": 47,
   "id": "d5e0eb41",
   "metadata": {
    "id": "d5e0eb41"
   },
   "outputs": [],
   "source": [
    "# Confusion Matrix\n",
    "def cm_design(y_test,predict_model):\n",
    "        cm = confusion_matrix(y_test,predict_model)\n",
    "        sns.heatmap(cm,\n",
    "                    annot=True,\n",
    "                    fmt='g',\n",
    "                    xticklabels=['Fraud' , 'IS Fraud'],\n",
    "                    yticklabels=['Fraud' , 'IS Fraud'])\n",
    "        plt.xlabel('Prediction',fontsize=13)\n",
    "        plt.ylabel('Actual',fontsize=13)\n",
    "        plt.title('Confusion Matrix',fontsize=17)\n",
    "        plt.show()"
   ]
  },
  {
   "cell_type": "markdown",
   "id": "ll_6BEEsYCAt",
   "metadata": {
    "id": "ll_6BEEsYCAt"
   },
   "source": [
    "## *NN Algorithm*"
   ]
  },
  {
   "cell_type": "code",
   "execution_count": 45,
   "id": "990616f6",
   "metadata": {
    "colab": {
     "base_uri": "https://localhost:8080/"
    },
    "id": "990616f6",
    "outputId": "129cc08b-448a-49e4-8408-651ba6a8522b"
   },
   "outputs": [
    {
     "name": "stdout",
     "output_type": "stream",
     "text": [
      "Training accuracy: 99.97 %\n",
      "Testing accuracy: 99.97 %\n"
     ]
    }
   ],
   "source": [
    "NN_model =  MLPClassifier(hidden_layer_sizes = (128,),activation='relu',\n",
    "                    solver='adam',alpha=0.0001,max_iter = 200)\n",
    "NN_model.fit(x_train_scaled,y_train)\n",
    "# ==============================================\n",
    "y_predict_NN = NN_model.predict(x_test_scaled)\n",
    "# Quick evaluation\n",
    "Train_Accuracy = NN_model.score(x_train_scaled, y_train)\n",
    "Test_Accuracy = NN_model.score(x_test_scaled, y_test)\n",
    "print(f'Training accuracy: {Train_Accuracy*100:.2f} %')\n",
    "print(f'Testing accuracy: {Test_Accuracy*100:.2f} %')"
   ]
  },
  {
   "cell_type": "code",
   "execution_count": 48,
   "id": "Cn46ZHc4QKDn",
   "metadata": {
    "colab": {
     "base_uri": "https://localhost:8080/",
     "height": 672
    },
    "id": "Cn46ZHc4QKDn",
    "outputId": "a2c5e516-64e8-407c-9dc3-97b078df4320"
   },
   "outputs": [
    {
     "data": {
      "image/png": "[encoded data removed]",
      "text/plain": [
       "<Figure size 640x480 with 2 Axes>"
      ]
     },
     "metadata": {},
     "output_type": "display_data"
    },
    {
     "name": "stdout",
     "output_type": "stream",
     "text": [
      "              precision    recall  f1-score   support\n",
      "\n",
      "           0       1.00      1.00      1.00   1270904\n",
      "           1       0.96      0.81      0.88      1620\n",
      "\n",
      "    accuracy                           1.00   1272524\n",
      "   macro avg       0.98      0.90      0.94   1272524\n",
      "weighted avg       1.00      1.00      1.00   1272524\n",
      "\n",
      "F1 Score :  87.76 %\n",
      "\n"
     ]
    }
   ],
   "source": [
    "cm_design(y_test,y_predict_NN)\n",
    "print(classification_report(y_test, y_predict_NN))\n",
    "\n",
    "# Evaluation Metric Libraries\n",
    "from sklearn.metrics import f1_score\n",
    "# F1 Score = 2 × ((Precision * Recall) / (Precision + Recall))\n",
    "F1_Score_NN = f1_score(y_test, y_predict_NN)\n",
    "print(f'F1 Score : {F1_Score_NN * 100 : .2f} %\\n')"
   ]
  },
  {
   "cell_type": "code",
   "execution_count": null,
   "id": "o3p2TyAqYcbd",
   "metadata": {
    "id": "o3p2TyAqYcbd"
   },
   "outputs": [],
   "source": []
  },
  {
   "cell_type": "code",
   "execution_count": null,
   "id": "vkwOEP3lYce9",
   "metadata": {
    "id": "vkwOEP3lYce9"
   },
   "outputs": [],
   "source": []
  }
 ],
 "metadata": {
  "accelerator": "GPU",
  "colab": {
   "gpuType": "T4",
   "provenance": []
  },
  "kernelspec": {
   "display_name": "Python 3 (ipykernel)",
   "language": "python",
   "name": "python3"
  },
  "language_info": {
   "codemirror_mode": {
    "name": "ipython",
    "version": 3
   },
   "file_extension": ".py",
   "mimetype": "text/x-python",
   "name": "python",
   "nbconvert_exporter": "python",
   "pygments_lexer": "ipython3",
   "version": "3.9.12"
  }
 },
 "nbformat": 4,
 "nbformat_minor": 5
}
